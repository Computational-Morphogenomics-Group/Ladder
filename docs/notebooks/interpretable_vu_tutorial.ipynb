{
 "cells": [
  {
   "cell_type": "markdown",
   "id": "eb448da0-416f-4692-b383-80d7d01ea52b",
   "metadata": {},
   "source": [
    "# Finding Genes Affected by Conditions with Patches\n",
    "\n",
    "- This tutorial attempts to find wounding related genes using only the data originating from v3 sequencing runs contained in the [Vu (2022)](https://www.ncbi.nlm.nih.gov/pmc/articles/PMC9901190/) dataset.\n",
    "\n",
    "- The data is a combination of aged & young cells collected at time points 0DPW (uninjured), 4DPW and 7DPW.\n",
    "\n",
    "\n",
    "- Throughout this tutorial, we will use the workflow package with Patches to find genes that are associated with the 4DPW timepoint. "
   ]
  },
  {
   "cell_type": "code",
   "execution_count": 1,
   "id": "3b1905ec-73c7-4622-93e6-6a82a0ae5cd2",
   "metadata": {},
   "outputs": [],
   "source": [
    "# Minimal mports\n",
    "from ladder.data import get_data\n",
    "from ladder.scripts import InterpretableWorkflow # Our workflow object to run the interpretable model\n",
    "import umap, torch, pyro # To set seeds + umaps\n",
    "import torch.optim as opt # For defining out optimizer\n",
    "\n",
    "\n",
    "# For plotting\n",
    "import numpy as np \n",
    "import pandas as pd\n",
    "import seaborn as sns\n",
    "import matplotlib.pyplot as plt\n",
    "\n",
    "# For data loading\n",
    "import anndata as ad\n",
    "import scanpy as sc"
   ]
  },
  {
   "cell_type": "markdown",
   "id": "adeb87be-05fe-4890-9195-54679c889e46",
   "metadata": {},
   "source": [
    "# Formatting The Data\n",
    "\n",
    "The workflows use [anndata](https://anndata.readthedocs.io/en/latest/) objects as input. Specifically, the data we provide can also be manually downloaded [here](https://drive.google.com/file/d/1quCP3403hOPG5Q8cy1KWZui_a0mJrQ5J/view?usp=drive_link). "
   ]
  },
  {
   "cell_type": "code",
   "execution_count": 2,
   "id": "313ac653-37f8-4ef8-b49d-e8a7e0fbed44",
   "metadata": {},
   "outputs": [
    {
     "name": "stderr",
     "output_type": "stream",
     "text": [
      "100%|██████████████████████████████████████████████████████████████████████████████████████████████████████████████████████████████████████████████████████████████████████████████████████████████████████████████████████████████████████████████████████████████████████████████████████████████████████████████████████████████████| 57.5M/57.5M [00:00<00:00, 1.27GB/s]"
     ]
    },
    {
     "name": "stdout",
     "output_type": "stream",
     "text": [
      "Dataset saved at ./data/vu_2022_ay_wh.h5ad\n"
     ]
    },
    {
     "name": "stderr",
     "output_type": "stream",
     "text": [
      "\n"
     ]
    }
   ],
   "source": [
    "# Download the data object\n",
    "get_data(\"Vu\") "
   ]
  },
  {
   "cell_type": "code",
   "execution_count": 3,
   "id": "c43465bb-4b08-4882-8d20-2314d6b72dfb",
   "metadata": {},
   "outputs": [
    {
     "data": {
      "text/plain": [
       "AnnData object with n_obs × n_vars = 31509 × 3000\n",
       "    obs: 'orig.ident', 'nCount_RNA', 'nFeature_RNA', 'paper', 'time', 'age', 'seq', 'sample', 'percent.mt', 'RNA_snn_res.0.2', 'seurat_clusters', 'harmony_clusters', 'broad_type'"
      ]
     },
     "execution_count": 3,
     "metadata": {},
     "output_type": "execute_result"
    }
   ],
   "source": [
    "# Load the anndata object\n",
    "anndata = ad.read_h5ad(\"data/vu_2022_ay_wh.h5ad\")\n",
    "anndata"
   ]
  },
  {
   "cell_type": "markdown",
   "id": "866e9ded-007c-438b-9f16-3f2b235cc33b",
   "metadata": {},
   "source": [
    "# Initializing the Interpretable Workflow\n",
    "- Models can be run through two workflow interfaces: **InterpretableWorkflow** and **CrossConditionWorkflow** (see the corresponding [tutorial](about:blank))\n",
    "\n",
    "- Once initialized, you can train and evaluate the model through the workflow interface. "
   ]
  },
  {
   "cell_type": "code",
   "execution_count": 4,
   "id": "12482ffc-a3ef-4ae0-93e7-d9f2d47ba221",
   "metadata": {
    "scrolled": true
   },
   "outputs": [
    {
     "name": "stdout",
     "output_type": "stream",
     "text": [
      "Initialized workflow to run interpretable model.\n",
      "\n",
      "Condition classes : ['time', 'age']\n",
      "Number of attributes per class : [3, 2]\n",
      "\n",
      "Initialized Patches model.\n",
      "Model arguments: {'reconstruction': 'ZINB_LD', 'batch_correction': True, 'scale_factor': 2.6041666666666666e-06, 'num_labels': 5, 'len_attrs': [3, 2]}\n",
      "\n",
      "Optimizer args parsed successfully. Final arguments: {'lr': 0.01, 'eps': 0.01, 'betas': (0.9, 0.999)}\n",
      "Training initialized for a maximum of 300, with convergence eps 0.005.\n",
      "Using device: cuda\n",
      "\n",
      "Epoch : 0 || Train Loss: 2.14001 // 1.76374 || Test Loss: 1.69996 // 1.73869 || Warmup : False\n",
      "Epoch : 1 || Train Loss: 1.32783 // 1.74383 || Test Loss: 1.0835 // 1.7364 || Warmup : False\n",
      "Epoch : 2 || Train Loss: 0.99416 // 1.74404 || Test Loss: 0.91648 // 1.74747 || Warmup : False\n",
      "Epoch : 3 || Train Loss: 0.91329 // 1.74463 || Test Loss: 0.86307 // 1.7443 || Warmup : False\n",
      "Epoch : 4 || Train Loss: 0.87164 // 1.74503 || Test Loss: 0.84167 // 1.74561 || Warmup : False\n",
      "Epoch : 5 || Train Loss: 0.84891 // 1.74482 || Test Loss: 0.8223 // 1.7418 || Warmup : False\n",
      "Epoch : 6 || Train Loss: 0.83737 // 1.74505 || Test Loss: 0.81111 // 1.74448 || Warmup : False\n",
      "Epoch : 7 || Train Loss: 0.82589 // 1.74507 || Test Loss: 0.79549 // 1.74296 || Warmup : False\n",
      "Epoch : 8 || Train Loss: 0.81446 // 1.74475 || Test Loss: 0.79921 // 1.74335 || Warmup : False\n",
      "Epoch : 9 || Train Loss: 0.80261 // 1.74502 || Test Loss: 0.7759 // 1.74248 || Warmup : False\n",
      "Epoch : 10 || Train Loss: 0.80158 // 1.74526 || Test Loss: 0.78151 // 1.7435 || Warmup : False\n",
      "Epoch : 11 || Train Loss: 0.79537 // 1.74467 || Test Loss: 1.12935 // 1.74318 || Warmup : False\n",
      "Epoch : 12 || Train Loss: 0.79523 // 1.74494 || Test Loss: 0.77755 // 1.74368 || Warmup : False\n",
      "Epoch : 13 || Train Loss: 0.78211 // 1.74497 || Test Loss: 0.75843 // 1.74217 || Warmup : False\n",
      "Epoch : 14 || Train Loss: 0.77764 // 1.74471 || Test Loss: 0.75571 // 1.74315 || Warmup : False\n",
      "Epoch : 15 || Train Loss: 0.77225 // 1.74498 || Test Loss: 0.75351 // 1.74282 || Warmup : False\n",
      "Epoch : 16 || Train Loss: 0.76807 // 1.74449 || Test Loss: 0.74901 // 1.74402 || Warmup : False\n",
      "Epoch : 17 || Train Loss: 0.7653 // 1.74512 || Test Loss: 0.74595 // 1.74309 || Warmup : False\n",
      "Epoch : 18 || Train Loss: 0.76101 // 1.74496 || Test Loss: 0.74126 // 1.74487 || Warmup : False\n",
      "Epoch : 19 || Train Loss: 0.75725 // 1.74493 || Test Loss: 0.73904 // 1.74351 || Warmup : False\n",
      "Epoch : 20 || Train Loss: 0.75355 // 1.74447 || Test Loss: 0.73638 // 1.74424 || Warmup : False\n",
      "Epoch : 21 || Train Loss: 0.75123 // 1.74534 || Test Loss: 0.73461 // 1.74316 || Warmup : False\n",
      "Epoch : 22 || Train Loss: 0.74956 // 1.74471 || Test Loss: 0.73304 // 1.74317 || Warmup : False\n",
      "Epoch : 23 || Train Loss: 0.74811 // 1.74485 || Test Loss: 0.73164 // 1.74381 || Warmup : False\n",
      "Epoch : 24 || Train Loss: 0.74669 // 1.7447 || Test Loss: 0.73022 // 1.74336 || Warmup : False\n",
      "Epoch : 25 || Train Loss: 0.74511 // 1.74481 || Test Loss: 0.72865 // 1.74445 || Warmup : False\n",
      "Epoch : 26 || Train Loss: 0.7437 // 1.74465 || Test Loss: 0.72738 // 1.74558 || Warmup : False\n",
      "Epoch : 27 || Train Loss: 0.74238 // 1.74527 || Test Loss: 0.72598 // 1.74301 || Warmup : False\n",
      "Epoch : 28 || Train Loss: 0.74094 // 1.74491 || Test Loss: 0.72464 // 1.74263 || Warmup : False\n",
      "Epoch : 29 || Train Loss: 0.73939 // 1.74495 || Test Loss: 0.72335 // 1.74304 || Warmup : False\n",
      "Epoch : 30 || Train Loss: 0.73815 // 1.74475 || Test Loss: 0.72199 // 1.74327 || Warmup : False\n",
      "Epoch : 31 || Train Loss: 0.73686 // 1.74486 || Test Loss: 0.72073 // 1.74363 || Warmup : False\n",
      "Epoch : 32 || Train Loss: 0.73544 // 1.74487 || Test Loss: 0.71945 // 1.74349 || Warmup : False\n",
      "Epoch : 33 || Train Loss: 0.73418 // 1.74493 || Test Loss: 0.71826 // 1.74434 || Warmup : False\n",
      "Epoch : 34 || Train Loss: 0.73299 // 1.74499 || Test Loss: 0.71703 // 1.74194 || Warmup : False\n",
      "Epoch : 35 || Train Loss: 0.73166 // 1.745 || Test Loss: 0.71582 // 1.74358 || Warmup : False\n",
      "Epoch : 36 || Train Loss: 0.73038 // 1.74477 || Test Loss: 0.71499 // 1.74278 || Warmup : False\n",
      "Epoch : 37 || Train Loss: 0.72917 // 1.74477 || Test Loss: 0.71343 // 1.74253 || Warmup : False\n",
      "Epoch : 38 || Train Loss: 0.72793 // 1.74467 || Test Loss: 0.71229 // 1.74364 || Warmup : False\n",
      "Epoch : 39 || Train Loss: 0.72689 // 1.74492 || Test Loss: 0.71138 // 1.7444 || Warmup : False\n",
      "Epoch : 40 || Train Loss: 0.72584 // 1.74484 || Test Loss: 0.71032 // 1.74419 || Warmup : False\n",
      "Epoch : 41 || Train Loss: 0.72478 // 1.74488 || Test Loss: 0.70932 // 1.74259 || Warmup : False\n",
      "Epoch : 42 || Train Loss: 0.72385 // 1.74475 || Test Loss: 0.70845 // 1.74257 || Warmup : False\n",
      "Epoch : 43 || Train Loss: 0.72286 // 1.74458 || Test Loss: 0.70746 // 1.74329 || Warmup : False\n",
      "Epoch : 44 || Train Loss: 0.72208 // 1.74464 || Test Loss: 0.7067 // 1.74358 || Warmup : False\n",
      "Epoch : 45 || Train Loss: 0.72102 // 1.74481 || Test Loss: 0.70595 // 1.74377 || Warmup : False\n",
      "Epoch : 46 || Train Loss: 0.72031 // 1.7445 || Test Loss: 0.70506 // 1.74229 || Warmup : False\n",
      "Epoch : 47 || Train Loss: 0.71961 // 1.74467 || Test Loss: 0.70445 // 1.74394 || Warmup : False\n",
      "Epoch : 48 || Train Loss: 0.71889 // 1.74483 || Test Loss: 0.70377 // 1.74356 || Warmup : False\n",
      "Epoch : 49 || Train Loss: 0.71814 // 1.74453 || Test Loss: 0.70308 // 1.74322 || Warmup : False\n",
      "Epoch : 50 || Train Loss: 0.71758 // 1.74487 || Test Loss: 0.70258 // 1.74359 || Warmup : False\n",
      "Epoch : 51 || Train Loss: 0.71685 // 1.7448 || Test Loss: 0.70181 // 1.74256 || Warmup : False\n",
      "Epoch : 52 || Train Loss: 0.71614 // 1.74479 || Test Loss: 0.70115 // 1.74265 || Warmup : False\n",
      "Epoch : 53 || Train Loss: 0.71573 // 1.74471 || Test Loss: 0.70055 // 1.74391 || Warmup : False\n",
      "Epoch : 54 || Train Loss: 0.71515 // 1.74489 || Test Loss: 0.70009 // 1.74347 || Warmup : False\n",
      "Epoch : 55 || Train Loss: 0.71461 // 1.74489 || Test Loss: 0.69957 // 1.74443 || Warmup : False\n",
      "Epoch : 56 || Train Loss: 0.71399 // 1.74452 || Test Loss: 0.69918 // 1.74211 || Warmup : False\n",
      "Epoch : 57 || Train Loss: 0.71364 // 1.74481 || Test Loss: 0.69866 // 1.74313 || Warmup : False\n",
      "Epoch : 58 || Train Loss: 0.71307 // 1.74477 || Test Loss: 0.69813 // 1.74367 || Warmup : False\n",
      "Epoch : 59 || Train Loss: 0.71254 // 1.74495 || Test Loss: 0.69765 // 1.74391 || Warmup : False\n",
      "Epoch : 60 || Train Loss: 0.71208 // 1.74437 || Test Loss: 0.69718 // 1.74343 || Warmup : False\n",
      "Epoch : 61 || Train Loss: 0.71176 // 1.7447 || Test Loss: 0.69696 // 1.74312 || Warmup : False\n",
      "Epoch : 62 || Train Loss: 0.71115 // 1.74476 || Test Loss: 0.69627 // 1.74325 || Warmup : False\n",
      "Epoch : 63 || Train Loss: 0.71068 // 1.74494 || Test Loss: 0.69593 // 1.7433 || Warmup : False\n",
      "Epoch : 64 || Train Loss: 0.7102 // 1.7449 || Test Loss: 0.69537 // 1.74331 || Warmup : False\n",
      "Epoch : 65 || Train Loss: 0.70981 // 1.74472 || Test Loss: 0.69493 // 1.74286 || Warmup : False\n",
      "Epoch : 66 || Train Loss: 0.70939 // 1.74463 || Test Loss: 0.69445 // 1.74202 || Warmup : False\n",
      "Epoch : 67 || Train Loss: 0.70881 // 1.74468 || Test Loss: 0.69386 // 1.74224 || Warmup : False\n",
      "Epoch : 68 || Train Loss: 0.70844 // 1.74447 || Test Loss: 0.69357 // 1.74219 || Warmup : False\n",
      "Epoch : 69 || Train Loss: 0.70792 // 1.74461 || Test Loss: 0.6932 // 1.74257 || Warmup : False\n",
      "Epoch : 70 || Train Loss: 0.70762 // 1.74475 || Test Loss: 0.69306 // 1.74339 || Warmup : False\n",
      "Epoch : 71 || Train Loss: 0.70725 // 1.74479 || Test Loss: 0.69243 // 1.74275 || Warmup : False\n",
      "Epoch : 72 || Train Loss: 0.70683 // 1.74475 || Test Loss: 0.692 // 1.74323 || Warmup : False\n",
      "Epoch : 73 || Train Loss: 0.70632 // 1.74473 || Test Loss: 0.69156 // 1.74304 || Warmup : False\n",
      "Epoch : 74 || Train Loss: 0.70595 // 1.74488 || Test Loss: 0.69128 // 1.7421 || Warmup : False\n",
      "Epoch : 75 || Train Loss: 0.70565 // 1.74488 || Test Loss: 0.69095 // 1.74282 || Warmup : False\n",
      "Epoch : 76 || Train Loss: 0.70512 // 1.74469 || Test Loss: 0.69033 // 1.74275 || Warmup : False\n",
      "Epoch : 77 || Train Loss: 0.70478 // 1.74475 || Test Loss: 0.69013 // 1.7434 || Warmup : False\n",
      "Epoch : 78 || Train Loss: 0.70433 // 1.74463 || Test Loss: 0.68961 // 1.74232 || Warmup : False\n",
      "Epoch : 79 || Train Loss: 0.70387 // 1.74467 || Test Loss: 0.68915 // 1.74257 || Warmup : False\n",
      "Epoch : 80 || Train Loss: 0.70362 // 1.74482 || Test Loss: 0.68886 // 1.74495 || Warmup : False\n",
      "Epoch : 81 || Train Loss: 0.70319 // 1.74459 || Test Loss: 0.68838 // 1.74248 || Warmup : False\n",
      "Epoch : 82 || Train Loss: 0.70287 // 1.74489 || Test Loss: 0.68798 // 1.74419 || Warmup : False\n",
      "Epoch : 83 || Train Loss: 0.70259 // 1.7447 || Test Loss: 0.68801 // 1.74513 || Warmup : False\n",
      "Epoch : 84 || Train Loss: 0.70223 // 1.7447 || Test Loss: 0.6875 // 1.74255 || Warmup : False\n",
      "Epoch : 85 || Train Loss: 0.70185 // 1.74455 || Test Loss: 0.68697 // 1.74239 || Warmup : False\n",
      "Epoch : 86 || Train Loss: 0.70153 // 1.74493 || Test Loss: 0.68676 // 1.74461 || Warmup : False\n",
      "Epoch : 87 || Train Loss: 0.70093 // 1.74522 || Test Loss: 0.68642 // 1.74326 || Warmup : False\n",
      "Epoch : 88 || Train Loss: 0.70088 // 1.74463 || Test Loss: 0.68606 // 1.74137 || Warmup : False\n",
      "Epoch : 89 || Train Loss: 0.70059 // 1.74479 || Test Loss: 0.6857 // 1.74193 || Warmup : False\n",
      "Epoch : 90 || Train Loss: 0.70017 // 1.74435 || Test Loss: 0.68543 // 1.74399 || Warmup : False\n",
      "Epoch : 91 || Train Loss: 0.69971 // 1.74475 || Test Loss: 0.68492 // 1.74311 || Warmup : False\n",
      "Epoch : 92 || Train Loss: 0.69943 // 1.74472 || Test Loss: 0.6848 // 1.74326 || Warmup : False\n",
      "Epoch : 93 || Train Loss: 0.69906 // 1.74467 || Test Loss: 0.68439 // 1.74563 || Warmup : False\n",
      "Epoch : 94 || Train Loss: 0.6987 // 1.74497 || Test Loss: 0.68408 // 1.74234 || Warmup : False\n",
      "Epoch : 95 || Train Loss: 0.69851 // 1.74479 || Test Loss: 0.68417 // 1.74223 || Warmup : False\n",
      "Epoch : 96 || Train Loss: 0.69816 // 1.74449 || Test Loss: 0.68324 // 1.74382 || Warmup : False\n",
      "Epoch : 97 || Train Loss: 0.69793 // 1.74441 || Test Loss: 0.68302 // 1.74249 || Warmup : False\n",
      "Epoch : 98 || Train Loss: 0.69743 // 1.74451 || Test Loss: 0.68303 // 1.7463 || Warmup : False\n",
      "Epoch : 99 || Train Loss: 0.69736 // 1.74533 || Test Loss: 0.68264 // 1.74351 || Warmup : False\n",
      "Epoch : 100 || Train Loss: 0.69686 // 1.74477 || Test Loss: 0.68219 // 1.74395 || Warmup : False\n",
      "Epoch : 101 || Train Loss: 0.69666 // 1.74475 || Test Loss: 0.68238 // 1.74588 || Warmup : False\n",
      "Epoch : 102 || Train Loss: 0.69648 // 1.74478 || Test Loss: 0.68182 // 1.742 || Warmup : False\n",
      "Epoch : 103 || Train Loss: 0.69602 // 1.74495 || Test Loss: 0.68141 // 1.74597 || Warmup : False\n",
      "Epoch : 104 || Train Loss: 0.69575 // 1.74475 || Test Loss: 0.68101 // 1.7448 || Warmup : False\n",
      "Epoch : 105 || Train Loss: 0.69555 // 1.74477 || Test Loss: 0.68079 // 1.74317 || Warmup : False\n",
      "Epoch : 106 || Train Loss: 0.69521 // 1.74459 || Test Loss: 0.68063 // 1.74095 || Warmup : False\n",
      "Convergence detected with last 15 epochs improvement 0.004290846039156082, ending training...\n"
     ]
    }
   ],
   "source": [
    "# Initialize workflow object\n",
    "workflow = InterpretableWorkflow(anndata, verbose=True, random_seed=42)\n",
    "\n",
    "# Define the condition classes & batch key to prepare the data\n",
    "factors = [\"time\", \"age\"]\n",
    "workflow.prep_model(factors, batch_key=\"sample\", model_type='Patches')\n",
    "\n",
    "# Train the model\n",
    "workflow.run_model(max_epochs=300, convergence_threshold=5e-3) # Lower the convergence threshold if you need a more accurate model, will increase training time"
   ]
  },
  {
   "cell_type": "markdown",
   "id": "3c5437d0-fa0c-4f92-b369-4d5b2dcd26a2",
   "metadata": {},
   "source": [
    "## Observing the Losses"
   ]
  },
  {
   "cell_type": "code",
   "execution_count": 5,
   "id": "6b4e5f19-f652-4d3e-b7e5-27c06daad439",
   "metadata": {},
   "outputs": [
    {
     "data": {
      "image/png": "[encoded data removed]",
      "text/plain": [
       "<Figure size 1000x500 with 2 Axes>"
      ]
     },
     "metadata": {},
     "output_type": "display_data"
    }
   ],
   "source": [
    "workflow.plot_loss()"
   ]
  },
  {
   "cell_type": "markdown",
   "id": "800c3a9d-ba0e-46d0-b974-6ab886b02508",
   "metadata": {},
   "source": [
    "## Obtaining Latent Embeddings"
   ]
  },
  {
   "cell_type": "code",
   "execution_count": 6,
   "id": "69c57709-e539-4c2a-be1d-92d14f9d84e9",
   "metadata": {},
   "outputs": [
    {
     "name": "stdout",
     "output_type": "stream",
     "text": [
      "Written embeddings to object 'anndata.obsm' under workflow.\n"
     ]
    },
    {
     "data": {
      "text/plain": [
       "AxisArrays with keys: patches_w_latent, patches_z_latent"
      ]
     },
     "execution_count": 6,
     "metadata": {},
     "output_type": "execute_result"
    }
   ],
   "source": [
    "workflow.write_embeddings()\n",
    "workflow.anndata.obsm"
   ]
  },
  {
   "cell_type": "markdown",
   "id": "911c5a02-a927-41da-87a7-7a4e4c360ce1",
   "metadata": {},
   "source": [
    "## Evaluation of Model Reconstruction"
   ]
  },
  {
   "cell_type": "code",
   "execution_count": 7,
   "id": "fec82c07-2e14-42c1-bbec-abf61e485067",
   "metadata": {},
   "outputs": [
    {
     "name": "stdout",
     "output_type": "stream",
     "text": [
      "Calculating RMSE ...\n"
     ]
    },
    {
     "name": "stderr",
     "output_type": "stream",
     "text": [
      "100%|█████████████████████████████████████████████████████████████████████████████████████████████████████████████████████████████████████████████████████████████████████████████████████████████████████████████████████████████████████████████████████████████████████████████████████████████████████████████████████████████████████████| 5/5 [00:35<00:00,  7.15s/it]\n"
     ]
    },
    {
     "name": "stdout",
     "output_type": "stream",
     "text": [
      "Calculating Profile Correlation ...\n"
     ]
    },
    {
     "name": "stderr",
     "output_type": "stream",
     "text": [
      "100%|█████████████████████████████████████████████████████████████████████████████████████████████████████████████████████████████████████████████████████████████████████████████████████████████████████████████████████████████████████████████████████████████████████████████████████████████████████████████████████████████████████████| 5/5 [00:35<00:00,  7.12s/it]\n"
     ]
    },
    {
     "name": "stdout",
     "output_type": "stream",
     "text": [
      "Calculating 2-Sliced Wasserstein ...\n"
     ]
    },
    {
     "name": "stderr",
     "output_type": "stream",
     "text": [
      "100%|█████████████████████████████████████████████████████████████████████████████████████████████████████████████████████████████████████████████████████████████████████████████████████████████████████████████████████████████████████████████████████████████████████████████████████████████████████████████████████████████████████████| 5/5 [00:35<00:00,  7.12s/it]\n",
      "100%|█████████████████████████████████████████████████████████████████████████████████████████████████████████████████████████████████████████████████████████████████████████████████████████████████████████████████████████████████████████████████████████████████████████████████████████████████████████████████████████████████████████| 5/5 [00:08<00:00,  1.65s/it]\n"
     ]
    },
    {
     "name": "stdout",
     "output_type": "stream",
     "text": [
      "Calculating Chamfer Discrepancy ...\n"
     ]
    },
    {
     "name": "stderr",
     "output_type": "stream",
     "text": [
      "100%|█████████████████████████████████████████████████████████████████████████████████████████████████████████████████████████████████████████████████████████████████████████████████████████████████████████████████████████████████████████████████████████████████████████████████████████████████████████████████████████████████████████| 5/5 [00:35<00:00,  7.12s/it]\n",
      "100%|█████████████████████████████████████████████████████████████████████████████████████████████████████████████████████████████████████████████████████████████████████████████████████████████████████████████████████████████████████████████████████████████████████████████████████████████████████████████████████████████████████████| 5/5 [00:05<00:00,  1.10s/it]\n",
      "100%|█████████████████████████████████████████████████████████████████████████████████████████████████████████████████████████████████████████████████████████████████████████████████████████████████████████████████████████████████████████████████████████████████████████████████████████████████████████████████████████████████████████| 5/5 [00:00<00:00, 22.82it/s]"
     ]
    },
    {
     "name": "stdout",
     "output_type": "stream",
     "text": [
      "Results\n",
      "===================\n",
      "RMSE : 0.785 +- 0.0\n",
      "Profile Correlation : 0.906 +- 0.0\n",
      "2-Sliced Wasserstein : 0.32 +- 0.0\n",
      "Chamfer Discrepancy : 0.393 +- 0.0\n"
     ]
    },
    {
     "name": "stderr",
     "output_type": "stream",
     "text": [
      "\n"
     ]
    }
   ],
   "source": [
    "workflow.evaluate_reconstruction()"
   ]
  },
  {
   "cell_type": "markdown",
   "id": "4d7b1962-8724-48e3-811a-f475874cf541",
   "metadata": {},
   "source": [
    "## Interpretability - Common and Conditional Gene Loadings\n",
    "\n",
    "- Patches can generate condition-specific scores for each gene, describing the association of the gene and the condition, even if the conditions were always encountered combinatorially.\n",
    "\n",
    "- Positive/Negative values mean that the given gene tends to be expressed relatively more/less for that condition compared to the basal state."
   ]
  },
  {
   "cell_type": "code",
   "execution_count": 8,
   "id": "18c4a352-7b93-4c27-b826-f7b6a0896aed",
   "metadata": {},
   "outputs": [
    {
     "name": "stdout",
     "output_type": "stream",
     "text": [
      "Written condition specific loadings to 'self.anndata.var'.\n",
      "Written common loadings to 'self.anndata.var'.\n"
     ]
    },
    {
     "data": {
      "text/plain": [
       "AxisArrays with keys: "
      ]
     },
     "execution_count": 8,
     "metadata": {},
     "output_type": "execute_result"
    }
   ],
   "source": [
    "workflow.get_conditional_loadings()\n",
    "workflow.get_common_loadings()\n",
    "workflow.anndata.varm"
   ]
  },
  {
   "cell_type": "code",
   "execution_count": 9,
   "id": "7624af9c-57c8-4af3-8ecb-96c35592f42f",
   "metadata": {},
   "outputs": [
    {
     "data": {
      "text/html": [
       "<div>\n",
       "<style scoped>\n",
       "    .dataframe tbody tr th:only-of-type {\n",
       "        vertical-align: middle;\n",
       "    }\n",
       "\n",
       "    .dataframe tbody tr th {\n",
       "        vertical-align: top;\n",
       "    }\n",
       "\n",
       "    .dataframe thead th {\n",
       "        text-align: right;\n",
       "    }\n",
       "</style>\n",
       "<table border=\"1\" class=\"dataframe\">\n",
       "  <thead>\n",
       "    <tr style=\"text-align: right;\">\n",
       "      <th></th>\n",
       "      <th>0DPW_score_Patches</th>\n",
       "      <th>4DPW_score_Patches</th>\n",
       "      <th>7DPW_score_Patches</th>\n",
       "      <th>Aged_score_Patches</th>\n",
       "      <th>Young_score_Patches</th>\n",
       "      <th>common_score_Patches</th>\n",
       "    </tr>\n",
       "    <tr>\n",
       "      <th>Gene Names</th>\n",
       "      <th></th>\n",
       "      <th></th>\n",
       "      <th></th>\n",
       "      <th></th>\n",
       "      <th></th>\n",
       "      <th></th>\n",
       "    </tr>\n",
       "  </thead>\n",
       "  <tbody>\n",
       "    <tr>\n",
       "      <th>Pcnp</th>\n",
       "      <td>-0.073716</td>\n",
       "      <td>-0.122502</td>\n",
       "      <td>-0.082946</td>\n",
       "      <td>0.062234</td>\n",
       "      <td>-0.018172</td>\n",
       "      <td>-0.077343</td>\n",
       "    </tr>\n",
       "    <tr>\n",
       "      <th>Jpt1</th>\n",
       "      <td>-0.070998</td>\n",
       "      <td>0.066587</td>\n",
       "      <td>-0.027407</td>\n",
       "      <td>0.095769</td>\n",
       "      <td>0.081088</td>\n",
       "      <td>0.241447</td>\n",
       "    </tr>\n",
       "    <tr>\n",
       "      <th>Rock2</th>\n",
       "      <td>0.133769</td>\n",
       "      <td>-0.027979</td>\n",
       "      <td>0.042045</td>\n",
       "      <td>-0.151226</td>\n",
       "      <td>-0.201409</td>\n",
       "      <td>0.037507</td>\n",
       "    </tr>\n",
       "    <tr>\n",
       "      <th>Mafg</th>\n",
       "      <td>-0.103028</td>\n",
       "      <td>0.297329</td>\n",
       "      <td>-0.050179</td>\n",
       "      <td>0.192225</td>\n",
       "      <td>0.234104</td>\n",
       "      <td>-0.009949</td>\n",
       "    </tr>\n",
       "    <tr>\n",
       "      <th>Serpinh1</th>\n",
       "      <td>-0.032279</td>\n",
       "      <td>-0.127060</td>\n",
       "      <td>-0.044676</td>\n",
       "      <td>-0.176405</td>\n",
       "      <td>0.159190</td>\n",
       "      <td>-0.250093</td>\n",
       "    </tr>\n",
       "    <tr>\n",
       "      <th>...</th>\n",
       "      <td>...</td>\n",
       "      <td>...</td>\n",
       "      <td>...</td>\n",
       "      <td>...</td>\n",
       "      <td>...</td>\n",
       "      <td>...</td>\n",
       "    </tr>\n",
       "    <tr>\n",
       "      <th>Slc31a2</th>\n",
       "      <td>-0.009911</td>\n",
       "      <td>0.326362</td>\n",
       "      <td>0.004632</td>\n",
       "      <td>0.178573</td>\n",
       "      <td>-0.011751</td>\n",
       "      <td>0.730762</td>\n",
       "    </tr>\n",
       "    <tr>\n",
       "      <th>Mef2c</th>\n",
       "      <td>0.054108</td>\n",
       "      <td>-0.066995</td>\n",
       "      <td>0.295107</td>\n",
       "      <td>-0.166251</td>\n",
       "      <td>0.113093</td>\n",
       "      <td>0.434323</td>\n",
       "    </tr>\n",
       "    <tr>\n",
       "      <th>Il1b</th>\n",
       "      <td>-0.254025</td>\n",
       "      <td>0.458105</td>\n",
       "      <td>0.366158</td>\n",
       "      <td>0.384907</td>\n",
       "      <td>0.498823</td>\n",
       "      <td>-0.275322</td>\n",
       "    </tr>\n",
       "    <tr>\n",
       "      <th>Col4a3bp</th>\n",
       "      <td>0.110854</td>\n",
       "      <td>-0.068530</td>\n",
       "      <td>0.053476</td>\n",
       "      <td>0.018450</td>\n",
       "      <td>-0.100153</td>\n",
       "      <td>-0.429249</td>\n",
       "    </tr>\n",
       "    <tr>\n",
       "      <th>Lgals9</th>\n",
       "      <td>0.096258</td>\n",
       "      <td>0.069984</td>\n",
       "      <td>0.023018</td>\n",
       "      <td>-0.165647</td>\n",
       "      <td>0.103471</td>\n",
       "      <td>-0.721976</td>\n",
       "    </tr>\n",
       "  </tbody>\n",
       "</table>\n",
       "<p>3000 rows × 6 columns</p>\n",
       "</div>"
      ],
      "text/plain": [
       "            0DPW_score_Patches  4DPW_score_Patches  7DPW_score_Patches  \\\n",
       "Gene Names                                                               \n",
       "Pcnp                 -0.073716           -0.122502           -0.082946   \n",
       "Jpt1                 -0.070998            0.066587           -0.027407   \n",
       "Rock2                 0.133769           -0.027979            0.042045   \n",
       "Mafg                 -0.103028            0.297329           -0.050179   \n",
       "Serpinh1             -0.032279           -0.127060           -0.044676   \n",
       "...                        ...                 ...                 ...   \n",
       "Slc31a2              -0.009911            0.326362            0.004632   \n",
       "Mef2c                 0.054108           -0.066995            0.295107   \n",
       "Il1b                 -0.254025            0.458105            0.366158   \n",
       "Col4a3bp              0.110854           -0.068530            0.053476   \n",
       "Lgals9                0.096258            0.069984            0.023018   \n",
       "\n",
       "            Aged_score_Patches  Young_score_Patches  common_score_Patches  \n",
       "Gene Names                                                                 \n",
       "Pcnp                  0.062234            -0.018172             -0.077343  \n",
       "Jpt1                  0.095769             0.081088              0.241447  \n",
       "Rock2                -0.151226            -0.201409              0.037507  \n",
       "Mafg                  0.192225             0.234104             -0.009949  \n",
       "Serpinh1             -0.176405             0.159190             -0.250093  \n",
       "...                        ...                  ...                   ...  \n",
       "Slc31a2               0.178573            -0.011751              0.730762  \n",
       "Mef2c                -0.166251             0.113093              0.434323  \n",
       "Il1b                  0.384907             0.498823             -0.275322  \n",
       "Col4a3bp              0.018450            -0.100153             -0.429249  \n",
       "Lgals9               -0.165647             0.103471             -0.721976  \n",
       "\n",
       "[3000 rows x 6 columns]"
      ]
     },
     "execution_count": 9,
     "metadata": {},
     "output_type": "execute_result"
    }
   ],
   "source": [
    "workflow.anndata.var"
   ]
  },
  {
   "cell_type": "markdown",
   "id": "550396ab-16a4-479d-b43e-e6c305f36ee6",
   "metadata": {},
   "source": [
    "## Bonus\n",
    "\n",
    "1. Run the cell below to get the top 200 genes\n",
    "2. Copy & Paste the output to the [Gene Ontology Resource](https://geneontology.org/)\n",
    "3. Select 'biological process' and 'Mus Musculus' from the list below and click launch."
   ]
  },
  {
   "cell_type": "code",
   "execution_count": 10,
   "id": "768ee6cf-d479-430f-b43f-5ea06b35138b",
   "metadata": {},
   "outputs": [
    {
     "name": "stdout",
     "output_type": "stream",
     "text": [
      "Trib1\n",
      "Stx11\n",
      "Fcer1g\n",
      "Nampt\n",
      "Tnfaip2\n",
      "Snx18\n",
      "Smox\n",
      "Ptprc\n",
      "Marcksl1\n",
      "Il1b\n",
      "Nr4a1\n",
      "Srgn\n",
      "Ets2\n",
      "Tyrobp\n",
      "Atf3\n",
      "Txnrd1\n",
      "Ptgs2\n",
      "Nfe2l2\n",
      "Clk1\n",
      "Gadd45a\n",
      "Ezr\n",
      "Ccl4\n",
      "Basp1\n",
      "Cd52\n",
      "Cyba\n",
      "Btg2\n",
      "Tmcc1\n",
      "Marcks\n",
      "Slfn2\n",
      "Tnfaip3\n",
      "Ier3\n",
      "Tnfrsf1b\n",
      "Fem1c\n",
      "Dazap2\n",
      "Bcl2l11\n",
      "Cd53\n",
      "Ddx6\n",
      "Ctsz\n",
      "Efhd2\n",
      "Rhog\n",
      "Anxa11\n",
      "Mxd1\n",
      "Il10rb\n",
      "Zeb2\n",
      "Grina\n",
      "Thbs1\n",
      "Msrb1\n",
      "Vps37b\n",
      "Cstb\n",
      "Cd82\n",
      "Fxyd5\n",
      "Emilin2\n",
      "Bri3\n",
      "Plekho2\n",
      "Lmnb1\n",
      "Jdp2\n",
      "Kctd12\n",
      "Rac1\n",
      "Il1rn\n",
      "Cd44\n",
      "N4bp1\n",
      "Lcp1\n",
      "Hif1a\n",
      "Sdcbp\n",
      "Nfkbiz\n",
      "Por\n",
      "Actr2\n",
      "Pim1\n",
      "Npepps\n",
      "Gadd45b\n",
      "Sirpa\n",
      "Maff\n",
      "Hectd1\n",
      "Arhgdib\n",
      "Birc3\n",
      "Rnf19b\n",
      "Card19\n",
      "Cotl1\n",
      "Ppp1r15a\n",
      "Klf7\n",
      "Msn\n",
      "Cox17\n",
      "Pnrc1\n",
      "Rel\n",
      "Atp6v1c1\n",
      "Fos\n",
      "Nab1\n",
      "Atp6v1e1\n",
      "Sde2\n",
      "Pgk1\n",
      "Il1r2\n",
      "Ifitm3\n",
      "Vasp\n",
      "Vamp2\n",
      "App\n",
      "Rnf149\n",
      "Ppp1r10\n",
      "Vmp1\n",
      "Pde4b\n",
      "Snx10\n",
      "Tpd52\n",
      "Ctsl\n",
      "Tmem189\n",
      "Gda\n",
      "Igf1r\n",
      "Stat3\n",
      "Tspo\n",
      "Hmox1\n",
      "Slc44a1\n",
      "Slc31a2\n",
      "Abca1\n",
      "2810474O19Rik\n",
      "Klhl24\n",
      "Tank\n",
      "Arid5b\n",
      "Ehd1\n",
      "Tgoln1\n",
      "Snx3\n",
      "Map4k4\n",
      "Rab8b\n",
      "Wsb1\n",
      "Vps4b\n",
      "Ninj1\n",
      "Tgif1\n",
      "Tra2a\n",
      "Nfkb1\n",
      "Zfand5\n",
      "Capza2\n",
      "Atp6v0b\n",
      "Plaur\n",
      "Casp4\n",
      "Arpc1b\n",
      "Skil\n",
      "Slc38a2\n",
      "Litaf\n",
      "Tgfb1\n",
      "Atp6ap2\n",
      "Cflar\n",
      "Mapkapk2\n",
      "Picalm\n",
      "Fnip1\n",
      "Creb1\n",
      "Sqstm1\n",
      "Mtmr6\n",
      "Zc3hav1\n",
      "Prdx5\n",
      "Rbms1\n",
      "Phlda1\n",
      "Fgl2\n",
      "Sat1\n",
      "Ddx17\n",
      "Vamp8\n",
      "Sparc\n",
      "Sf3b1\n",
      "Atp2b1\n",
      "Cux1\n",
      "Mafg\n",
      "Hilpda\n",
      "Gsr\n",
      "Tollip\n",
      "Ddit3\n",
      "Col1a1\n",
      "Trps1\n",
      "Cited2\n",
      "Atp6v0d1\n",
      "Azin1\n",
      "Vegfa\n",
      "Kdm6b\n",
      "Eif5\n",
      "Znrf1\n",
      "Bhlhe40\n",
      "Ostf1\n",
      "Gna13\n",
      "Kdm7a\n",
      "Tax1bp1\n",
      "Clec2d\n",
      "Snap23\n",
      "Gls\n",
      "Tet3\n",
      "Malt1\n",
      "Ier5\n",
      "Ndel1\n",
      "Icam1\n",
      "Arpc5\n",
      "Prdx6\n",
      "Ppp1r12a\n",
      "Gsn\n",
      "Hnrnph2\n",
      "Odc1\n",
      "Nktr\n",
      "Mdm2\n",
      "Laptm5\n",
      "AC160336.1\n",
      "Larp4b\n",
      "Antxr2\n",
      "Diaph1\n",
      "Csrnp1\n",
      "Zyx\n",
      "Lasp1\n",
      "Zcchc6\n"
     ]
    }
   ],
   "source": [
    "for gene in workflow.anndata.var.sort_values(\"4DPW_score_Patches\", ascending=False).index[:200]:\n",
    "    print(gene)"
   ]
  }
 ],
 "metadata": {
  "kernelspec": {
   "display_name": "Python 3 (ipykernel)",
   "language": "python",
   "name": "python3"
  },
  "language_info": {
   "codemirror_mode": {
    "name": "ipython",
    "version": 3
   },
   "file_extension": ".py",
   "mimetype": "text/x-python",
   "name": "python",
   "nbconvert_exporter": "python",
   "pygments_lexer": "ipython3",
   "version": "3.12.2"
  }
 },
 "nbformat": 4,
 "nbformat_minor": 5
}
