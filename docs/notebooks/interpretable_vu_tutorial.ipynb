{
 "cells": [
  {
   "cell_type": "markdown",
   "id": "eb448da0-416f-4692-b383-80d7d01ea52b",
   "metadata": {},
   "source": [
    "# Finding Conditional Genes with Patches\n",
    "\n",
    "- This tutorial attempts to find wounding related genes using only the data originating from v3 sequencing runs contained in the [Vu (2022)](https://www.ncbi.nlm.nih.gov/pmc/articles/PMC9901190/) dataset.\n",
    "\n",
    "- The data is a combination of aged & young cells collected at time points 0DPW (uninjured), 4DPW and 7DPW.\n",
    "\n",
    "\n",
    "- Throughout this tutorial, we will use the workflow package with Patches to find genes that are associated with the 4DPW timepoint. "
   ]
  },
  {
   "cell_type": "code",
   "execution_count": 1,
   "id": "3b1905ec-73c7-4622-93e6-6a82a0ae5cd2",
   "metadata": {},
   "outputs": [],
   "source": [
    "# Minimal mports\n",
    "from ladder.data import get_data\n",
    "from ladder.scripts import InterpretableWorkflow # Our workflow object to run the interpretable model\n",
    "import umap, torch, pyro # To set seeds + umaps\n",
    "import torch.optim as opt # For defining out optimizer\n",
    "\n",
    "\n",
    "# For plotting\n",
    "import numpy as np \n",
    "import pandas as pd\n",
    "import seaborn as sns\n",
    "import matplotlib.pyplot as plt\n",
    "\n",
    "# For data loading\n",
    "import anndata as ad\n",
    "import scanpy as sc"
   ]
  },
  {
   "cell_type": "markdown",
   "id": "adeb87be-05fe-4890-9195-54679c889e46",
   "metadata": {},
   "source": [
    "# Formatting The Data\n",
    "\n",
    "The workflows use [anndata](https://anndata.readthedocs.io/en/latest/) objects as input. Specifically, the data we provide can also be manually downloaded [here](https://drive.google.com/file/d/1quCP3403hOPG5Q8cy1KWZui_a0mJrQ5J/view?usp=drive_link). "
   ]
  },
  {
   "cell_type": "code",
   "execution_count": 2,
   "id": "313ac653-37f8-4ef8-b49d-e8a7e0fbed44",
   "metadata": {},
   "outputs": [
    {
     "name": "stderr",
     "output_type": "stream",
     "text": [
      "100%|█████████████████████████████████████████████████████████████████████████████████████████████████████████████████████████████████████████████████████████████████████████████████████████████████████| 57.5M/57.5M [00:00<00:00, 807MB/s]"
     ]
    },
    {
     "name": "stdout",
     "output_type": "stream",
     "text": [
      "Object saved at ./data/vu_2022_ay_wh.h5ad\n"
     ]
    },
    {
     "name": "stderr",
     "output_type": "stream",
     "text": [
      "\n"
     ]
    }
   ],
   "source": [
    "# Download the data object\n",
    "get_data(\"Vu\") "
   ]
  },
  {
   "cell_type": "code",
   "execution_count": 3,
   "id": "c43465bb-4b08-4882-8d20-2314d6b72dfb",
   "metadata": {},
   "outputs": [
    {
     "data": {
      "text/plain": [
       "AnnData object with n_obs × n_vars = 31509 × 3000\n",
       "    obs: 'orig.ident', 'nCount_RNA', 'nFeature_RNA', 'paper', 'time', 'age', 'seq', 'sample', 'percent.mt', 'RNA_snn_res.0.2', 'seurat_clusters', 'harmony_clusters', 'broad_type'"
      ]
     },
     "execution_count": 3,
     "metadata": {},
     "output_type": "execute_result"
    }
   ],
   "source": [
    "# Load the anndata object\n",
    "anndata = ad.read_h5ad(\"data/vu_2022_ay_wh.h5ad\")\n",
    "anndata"
   ]
  },
  {
   "cell_type": "markdown",
   "id": "866e9ded-007c-438b-9f16-3f2b235cc33b",
   "metadata": {},
   "source": [
    "# Initializing the Interpretable Workflow\n",
    "- Models can be run through two workflow interfaces: **InterpretableWorkflow** and **CrossConditionWorkflow** (see the corresponding [tutorial](crossconditional_vu_tutorial.ipynb))\n",
    "\n",
    "- Once initialized, you can train and evaluate the model through the workflow interface. "
   ]
  },
  {
   "cell_type": "code",
   "execution_count": 4,
   "id": "12482ffc-a3ef-4ae0-93e7-d9f2d47ba221",
   "metadata": {
    "scrolled": true
   },
   "outputs": [
    {
     "name": "stdout",
     "output_type": "stream",
     "text": [
      "Initialized workflow to run interpretable model.\n",
      "\n",
      "Condition classes : ['time', 'age']\n",
      "Number of attributes per class : [3, 2]\n",
      "\n",
      "Initialized Patches model.\n",
      "Model arguments: {'reconstruction': 'ZINB_LD', 'batch_correction': True, 'scale_factor': 2.6041666666666666e-06, 'num_labels': 5, 'len_attrs': [3, 2]}\n",
      "\n",
      "Optimizer args parsed successfully. Final arguments: {'optimizer': <class 'torch.optim.adam.Adam'>, 'optim_args': {'lr': 0.01, 'eps': 0.01, 'betas': (0.9, 0.999)}, 'gamma': 1, 'milestones': [10000000000.0]}\n",
      "Training initialized for a maximum of 300, with convergence eps 0.005.\n",
      "Using device: cuda\n",
      "\n",
      "Epoch : 0 || Train Loss: 2.15187 // 1.76971 || Test Loss: 1.70666 // 1.7838 || Warmup : False\n",
      "Epoch : 1 || Train Loss: 1.33563 // 1.74294 || Test Loss: 1.08336 // 1.74389 || Warmup : False\n",
      "Epoch : 2 || Train Loss: 0.99607 // 1.74413 || Test Loss: 0.91282 // 1.75078 || Warmup : False\n",
      "Epoch : 3 || Train Loss: 0.90812 // 1.74501 || Test Loss: 0.85827 // 1.74545 || Warmup : False\n",
      "Epoch : 4 || Train Loss: 0.86716 // 1.74467 || Test Loss: 0.84202 // 1.74599 || Warmup : False\n",
      "Epoch : 5 || Train Loss: 0.84778 // 1.74472 || Test Loss: 0.82171 // 1.74245 || Warmup : False\n",
      "Epoch : 6 || Train Loss: 0.83821 // 1.74499 || Test Loss: 0.81123 // 1.74466 || Warmup : False\n",
      "Epoch : 7 || Train Loss: 0.82776 // 1.74503 || Test Loss: 0.80133 // 1.74167 || Warmup : False\n",
      "Epoch : 8 || Train Loss: 0.82219 // 1.74486 || Test Loss: 0.79656 // 1.74342 || Warmup : False\n",
      "Epoch : 9 || Train Loss: 0.81542 // 1.74499 || Test Loss: 0.78905 // 1.74292 || Warmup : False\n",
      "Epoch : 10 || Train Loss: 0.80684 // 1.74526 || Test Loss: 0.78202 // 1.74183 || Warmup : False\n",
      "Epoch : 11 || Train Loss: 0.80197 // 1.74483 || Test Loss: 0.83635 // 1.74358 || Warmup : False\n",
      "Epoch : 12 || Train Loss: 0.79638 // 1.7448 || Test Loss: 0.77665 // 1.74457 || Warmup : False\n",
      "Epoch : 13 || Train Loss: 0.78826 // 1.74506 || Test Loss: 0.7626 // 1.74288 || Warmup : False\n",
      "Epoch : 14 || Train Loss: 0.78123 // 1.74481 || Test Loss: 0.75846 // 1.74278 || Warmup : False\n",
      "Epoch : 15 || Train Loss: 0.77571 // 1.74456 || Test Loss: 0.75454 // 1.74268 || Warmup : False\n",
      "Epoch : 16 || Train Loss: 0.77056 // 1.74446 || Test Loss: 0.74849 // 1.74539 || Warmup : False\n",
      "Epoch : 17 || Train Loss: 0.76709 // 1.7453 || Test Loss: 0.74726 // 1.74362 || Warmup : False\n",
      "Epoch : 18 || Train Loss: 0.76145 // 1.74497 || Test Loss: 0.74207 // 1.74436 || Warmup : False\n",
      "Epoch : 19 || Train Loss: 0.75694 // 1.74487 || Test Loss: 0.73808 // 1.74454 || Warmup : False\n",
      "Epoch : 20 || Train Loss: 0.75244 // 1.74469 || Test Loss: 0.73543 // 1.74388 || Warmup : False\n",
      "Epoch : 21 || Train Loss: 0.75028 // 1.745 || Test Loss: 0.73374 // 1.74267 || Warmup : False\n",
      "Epoch : 22 || Train Loss: 0.74859 // 1.74479 || Test Loss: 0.73203 // 1.74232 || Warmup : False\n",
      "Epoch : 23 || Train Loss: 0.74702 // 1.74499 || Test Loss: 0.73049 // 1.74403 || Warmup : False\n",
      "Epoch : 24 || Train Loss: 0.7455 // 1.74481 || Test Loss: 0.72895 // 1.74314 || Warmup : False\n",
      "Epoch : 25 || Train Loss: 0.74384 // 1.74483 || Test Loss: 0.72743 // 1.74294 || Warmup : False\n",
      "Epoch : 26 || Train Loss: 0.74232 // 1.74468 || Test Loss: 0.72592 // 1.74463 || Warmup : False\n",
      "Epoch : 27 || Train Loss: 0.74094 // 1.74527 || Test Loss: 0.7245 // 1.74308 || Warmup : False\n",
      "Epoch : 28 || Train Loss: 0.73942 // 1.74486 || Test Loss: 0.7231 // 1.74359 || Warmup : False\n",
      "Epoch : 29 || Train Loss: 0.73779 // 1.74491 || Test Loss: 0.72175 // 1.74364 || Warmup : False\n",
      "Epoch : 30 || Train Loss: 0.73646 // 1.74479 || Test Loss: 0.72027 // 1.74428 || Warmup : False\n",
      "Epoch : 31 || Train Loss: 0.73506 // 1.74493 || Test Loss: 0.71893 // 1.74331 || Warmup : False\n",
      "Epoch : 32 || Train Loss: 0.73366 // 1.74484 || Test Loss: 0.71764 // 1.74442 || Warmup : False\n",
      "Epoch : 33 || Train Loss: 0.73239 // 1.74472 || Test Loss: 0.71644 // 1.74463 || Warmup : False\n",
      "Epoch : 34 || Train Loss: 0.73117 // 1.74512 || Test Loss: 0.71522 // 1.74378 || Warmup : False\n",
      "Epoch : 35 || Train Loss: 0.72981 // 1.74518 || Test Loss: 0.71396 // 1.74267 || Warmup : False\n",
      "Epoch : 36 || Train Loss: 0.72854 // 1.74469 || Test Loss: 0.71311 // 1.74311 || Warmup : False\n",
      "Epoch : 37 || Train Loss: 0.72739 // 1.74479 || Test Loss: 0.71172 // 1.74346 || Warmup : False\n",
      "Epoch : 38 || Train Loss: 0.72621 // 1.74457 || Test Loss: 0.71064 // 1.7444 || Warmup : False\n",
      "Epoch : 39 || Train Loss: 0.72514 // 1.74484 || Test Loss: 0.70968 // 1.74223 || Warmup : False\n",
      "Epoch : 40 || Train Loss: 0.72411 // 1.74489 || Test Loss: 0.70863 // 1.74357 || Warmup : False\n",
      "Epoch : 41 || Train Loss: 0.72313 // 1.74481 || Test Loss: 0.70772 // 1.74314 || Warmup : False\n",
      "Epoch : 42 || Train Loss: 0.72226 // 1.74483 || Test Loss: 0.70697 // 1.74345 || Warmup : False\n",
      "Epoch : 43 || Train Loss: 0.72137 // 1.74471 || Test Loss: 0.70604 // 1.74277 || Warmup : False\n",
      "Epoch : 44 || Train Loss: 0.72068 // 1.74471 || Test Loss: 0.70535 // 1.7429 || Warmup : False\n",
      "Epoch : 45 || Train Loss: 0.71965 // 1.74471 || Test Loss: 0.70459 // 1.74278 || Warmup : False\n",
      "Epoch : 46 || Train Loss: 0.719 // 1.7447 || Test Loss: 0.70381 // 1.74278 || Warmup : False\n",
      "Epoch : 47 || Train Loss: 0.71833 // 1.74456 || Test Loss: 0.70319 // 1.74296 || Warmup : False\n",
      "Epoch : 48 || Train Loss: 0.71764 // 1.74494 || Test Loss: 0.70254 // 1.7437 || Warmup : False\n",
      "Epoch : 49 || Train Loss: 0.71701 // 1.74466 || Test Loss: 0.70197 // 1.74345 || Warmup : False\n",
      "Epoch : 50 || Train Loss: 0.71645 // 1.74481 || Test Loss: 0.70153 // 1.74532 || Warmup : False\n",
      "Epoch : 51 || Train Loss: 0.71577 // 1.74464 || Test Loss: 0.70078 // 1.74274 || Warmup : False\n",
      "Epoch : 52 || Train Loss: 0.71515 // 1.74473 || Test Loss: 0.70015 // 1.74264 || Warmup : False\n",
      "Epoch : 53 || Train Loss: 0.7148 // 1.74451 || Test Loss: 0.69973 // 1.74363 || Warmup : False\n",
      "Epoch : 54 || Train Loss: 0.71429 // 1.74463 || Test Loss: 0.6992 // 1.74324 || Warmup : False\n",
      "Epoch : 55 || Train Loss: 0.71373 // 1.74491 || Test Loss: 0.69868 // 1.74295 || Warmup : False\n",
      "Epoch : 56 || Train Loss: 0.71315 // 1.74451 || Test Loss: 0.69828 // 1.74254 || Warmup : False\n",
      "Epoch : 57 || Train Loss: 0.71279 // 1.74457 || Test Loss: 0.69779 // 1.74287 || Warmup : False\n",
      "Epoch : 58 || Train Loss: 0.71225 // 1.74498 || Test Loss: 0.69731 // 1.74268 || Warmup : False\n",
      "Epoch : 59 || Train Loss: 0.71181 // 1.74463 || Test Loss: 0.69683 // 1.74263 || Warmup : False\n",
      "Epoch : 60 || Train Loss: 0.7113 // 1.74474 || Test Loss: 0.69645 // 1.74461 || Warmup : False\n",
      "Epoch : 61 || Train Loss: 0.71101 // 1.74519 || Test Loss: 0.69615 // 1.74254 || Warmup : False\n",
      "Epoch : 62 || Train Loss: 0.71036 // 1.74479 || Test Loss: 0.69559 // 1.743 || Warmup : False\n",
      "Epoch : 63 || Train Loss: 0.70996 // 1.74486 || Test Loss: 0.69517 // 1.74541 || Warmup : False\n",
      "Epoch : 64 || Train Loss: 0.70953 // 1.74444 || Test Loss: 0.69461 // 1.74446 || Warmup : False\n",
      "Epoch : 65 || Train Loss: 0.70919 // 1.74465 || Test Loss: 0.69429 // 1.74311 || Warmup : False\n",
      "Epoch : 66 || Train Loss: 0.70876 // 1.74481 || Test Loss: 0.69383 // 1.74284 || Warmup : False\n",
      "Epoch : 67 || Train Loss: 0.70821 // 1.74485 || Test Loss: 0.6934 // 1.74269 || Warmup : False\n",
      "Epoch : 68 || Train Loss: 0.70789 // 1.74467 || Test Loss: 0.69297 // 1.74261 || Warmup : False\n",
      "Epoch : 69 || Train Loss: 0.70735 // 1.74446 || Test Loss: 0.6925 // 1.74313 || Warmup : False\n",
      "Epoch : 70 || Train Loss: 0.70699 // 1.74496 || Test Loss: 0.69234 // 1.74402 || Warmup : False\n",
      "Epoch : 71 || Train Loss: 0.70666 // 1.74472 || Test Loss: 0.69177 // 1.7427 || Warmup : False\n",
      "Epoch : 72 || Train Loss: 0.70619 // 1.74445 || Test Loss: 0.69134 // 1.74427 || Warmup : False\n",
      "Epoch : 73 || Train Loss: 0.70577 // 1.74484 || Test Loss: 0.691 // 1.74535 || Warmup : False\n",
      "Epoch : 74 || Train Loss: 0.70533 // 1.74529 || Test Loss: 0.69058 // 1.74243 || Warmup : False\n",
      "Epoch : 75 || Train Loss: 0.70502 // 1.74466 || Test Loss: 0.69027 // 1.74299 || Warmup : False\n",
      "Epoch : 76 || Train Loss: 0.70451 // 1.74469 || Test Loss: 0.68978 // 1.74272 || Warmup : False\n",
      "Epoch : 77 || Train Loss: 0.70422 // 1.74472 || Test Loss: 0.68954 // 1.74212 || Warmup : False\n",
      "Epoch : 78 || Train Loss: 0.70369 // 1.74465 || Test Loss: 0.689 // 1.74358 || Warmup : False\n",
      "Epoch : 79 || Train Loss: 0.70326 // 1.7451 || Test Loss: 0.68854 // 1.74439 || Warmup : False\n",
      "Epoch : 80 || Train Loss: 0.70305 // 1.74513 || Test Loss: 0.6882 // 1.74246 || Warmup : False\n",
      "Epoch : 81 || Train Loss: 0.70258 // 1.74469 || Test Loss: 0.68769 // 1.74292 || Warmup : False\n",
      "Epoch : 82 || Train Loss: 0.70229 // 1.74461 || Test Loss: 0.68728 // 1.74298 || Warmup : False\n",
      "Epoch : 83 || Train Loss: 0.70185 // 1.74472 || Test Loss: 0.68715 // 1.74161 || Warmup : False\n",
      "Epoch : 84 || Train Loss: 0.70141 // 1.74485 || Test Loss: 0.68662 // 1.74287 || Warmup : False\n",
      "Epoch : 85 || Train Loss: 0.70114 // 1.74456 || Test Loss: 0.68631 // 1.74217 || Warmup : False\n",
      "Epoch : 86 || Train Loss: 0.70082 // 1.74511 || Test Loss: 0.68608 // 1.74247 || Warmup : False\n",
      "Epoch : 87 || Train Loss: 0.70017 // 1.74464 || Test Loss: 0.68578 // 1.74324 || Warmup : False\n",
      "Epoch : 88 || Train Loss: 0.7001 // 1.74453 || Test Loss: 0.68516 // 1.74342 || Warmup : False\n",
      "Epoch : 89 || Train Loss: 0.69984 // 1.74502 || Test Loss: 0.68497 // 1.74433 || Warmup : False\n",
      "Epoch : 90 || Train Loss: 0.69942 // 1.74426 || Test Loss: 0.68468 // 1.74444 || Warmup : False\n",
      "Epoch : 91 || Train Loss: 0.69903 // 1.74478 || Test Loss: 0.6843 // 1.7435 || Warmup : False\n",
      "Epoch : 92 || Train Loss: 0.69864 // 1.74483 || Test Loss: 0.68398 // 1.74361 || Warmup : False\n",
      "Epoch : 93 || Train Loss: 0.69823 // 1.74477 || Test Loss: 0.68354 // 1.74208 || Warmup : False\n",
      "Epoch : 94 || Train Loss: 0.69795 // 1.74502 || Test Loss: 0.68335 // 1.74301 || Warmup : False\n",
      "Epoch : 95 || Train Loss: 0.69773 // 1.74464 || Test Loss: 0.68327 // 1.74344 || Warmup : False\n",
      "Epoch : 96 || Train Loss: 0.69735 // 1.7447 || Test Loss: 0.68255 // 1.7439 || Warmup : False\n",
      "Epoch : 97 || Train Loss: 0.69718 // 1.74489 || Test Loss: 0.68229 // 1.74532 || Warmup : False\n",
      "Epoch : 98 || Train Loss: 0.69671 // 1.7446 || Test Loss: 0.68215 // 1.74249 || Warmup : False\n",
      "Epoch : 99 || Train Loss: 0.69663 // 1.74492 || Test Loss: 0.68197 // 1.74214 || Warmup : False\n",
      "Epoch : 100 || Train Loss: 0.69615 // 1.74485 || Test Loss: 0.68152 // 1.74297 || Warmup : False\n",
      "Epoch : 101 || Train Loss: 0.69592 // 1.7448 || Test Loss: 0.6817 // 1.74841 || Warmup : False\n",
      "Epoch : 102 || Train Loss: 0.6958 // 1.74468 || Test Loss: 0.68112 // 1.74356 || Warmup : False\n",
      "Epoch : 103 || Train Loss: 0.69528 // 1.7448 || Test Loss: 0.68064 // 1.74235 || Warmup : False\n",
      "Convergence detected with last 15 epochs improvement 0.004527245071927144, ending training...\n"
     ]
    }
   ],
   "source": [
    "# Initialize workflow object\n",
    "workflow = InterpretableWorkflow(anndata, verbose=True, random_seed=42)\n",
    "\n",
    "# Define the condition classes & batch key to prepare the data\n",
    "factors = [\"time\", \"age\"]\n",
    "workflow.prep_model(factors, batch_key=\"sample\", model_type='Patches')\n",
    "\n",
    "# Train the model\n",
    "workflow.run_model(max_epochs=300, convergence_threshold=5e-3, convergence_window=15) # Lower the convergence threshold if you need a more accurate model, will increase training time"
   ]
  },
  {
   "cell_type": "markdown",
   "id": "3c5437d0-fa0c-4f92-b369-4d5b2dcd26a2",
   "metadata": {},
   "source": [
    "## Observing the Losses"
   ]
  },
  {
   "cell_type": "code",
   "execution_count": 5,
   "id": "6b4e5f19-f652-4d3e-b7e5-27c06daad439",
   "metadata": {},
   "outputs": [
    {
     "data": {
      "image/png": "[encoded data removed]",
      "text/plain": [
       "<Figure size 1000x500 with 2 Axes>"
      ]
     },
     "metadata": {},
     "output_type": "display_data"
    }
   ],
   "source": [
    "workflow.plot_loss()"
   ]
  },
  {
   "cell_type": "markdown",
   "id": "800c3a9d-ba0e-46d0-b974-6ab886b02508",
   "metadata": {},
   "source": [
    "## Obtaining Latent Embeddings"
   ]
  },
  {
   "cell_type": "code",
   "execution_count": 6,
   "id": "69c57709-e539-4c2a-be1d-92d14f9d84e9",
   "metadata": {},
   "outputs": [
    {
     "name": "stdout",
     "output_type": "stream",
     "text": [
      "Written embeddings to object 'anndata.obsm' under workflow.\n"
     ]
    },
    {
     "data": {
      "text/plain": [
       "AxisArrays with keys: patches_w_latent, patches_z_latent"
      ]
     },
     "execution_count": 6,
     "metadata": {},
     "output_type": "execute_result"
    }
   ],
   "source": [
    "workflow.write_embeddings()\n",
    "workflow.anndata.obsm"
   ]
  },
  {
   "cell_type": "markdown",
   "id": "911c5a02-a927-41da-87a7-7a4e4c360ce1",
   "metadata": {},
   "source": [
    "## Evaluation of Model Reconstruction"
   ]
  },
  {
   "cell_type": "code",
   "execution_count": 7,
   "id": "fec82c07-2e14-42c1-bbec-abf61e485067",
   "metadata": {},
   "outputs": [
    {
     "name": "stdout",
     "output_type": "stream",
     "text": [
      "Calculating RMSE ...\n"
     ]
    },
    {
     "name": "stderr",
     "output_type": "stream",
     "text": [
      "100%|███████████████████████████████████████████████████████████████████████████████████████████████████████████████████████████████████████████████████████████████████████████████████████████████████████████| 5/5 [00:47<00:00,  9.49s/it]\n"
     ]
    },
    {
     "name": "stdout",
     "output_type": "stream",
     "text": [
      "Calculating Profile Correlation ...\n"
     ]
    },
    {
     "name": "stderr",
     "output_type": "stream",
     "text": [
      "100%|███████████████████████████████████████████████████████████████████████████████████████████████████████████████████████████████████████████████████████████████████████████████████████████████████████████| 5/5 [00:50<00:00, 10.15s/it]\n"
     ]
    },
    {
     "name": "stdout",
     "output_type": "stream",
     "text": [
      "Calculating 2-Sliced Wasserstein ...\n"
     ]
    },
    {
     "name": "stderr",
     "output_type": "stream",
     "text": [
      "100%|███████████████████████████████████████████████████████████████████████████████████████████████████████████████████████████████████████████████████████████████████████████████████████████████████████████| 5/5 [00:49<00:00,  9.91s/it]\n",
      "100%|███████████████████████████████████████████████████████████████████████████████████████████████████████████████████████████████████████████████████████████████████████████████████████████████████████████| 5/5 [00:16<00:00,  3.27s/it]\n"
     ]
    },
    {
     "name": "stdout",
     "output_type": "stream",
     "text": [
      "Calculating Chamfer Discrepancy ...\n"
     ]
    },
    {
     "name": "stderr",
     "output_type": "stream",
     "text": [
      "100%|███████████████████████████████████████████████████████████████████████████████████████████████████████████████████████████████████████████████████████████████████████████████████████████████████████████| 5/5 [00:56<00:00, 11.28s/it]\n",
      "100%|███████████████████████████████████████████████████████████████████████████████████████████████████████████████████████████████████████████████████████████████████████████████████████████████████████████| 5/5 [00:08<00:00,  1.78s/it]\n",
      "100%|███████████████████████████████████████████████████████████████████████████████████████████████████████████████████████████████████████████████████████████████████████████████████████████████████████████| 5/5 [00:00<00:00, 12.58it/s]"
     ]
    },
    {
     "name": "stdout",
     "output_type": "stream",
     "text": [
      "Results\n",
      "===================\n",
      "RMSE : 0.745 +- 0.0\n",
      "Profile Correlation : 0.91 +- 0.0\n",
      "2-Sliced Wasserstein : 0.31 +- 0.0\n",
      "Chamfer Discrepancy : 0.394 +- 0.0\n"
     ]
    },
    {
     "name": "stderr",
     "output_type": "stream",
     "text": [
      "\n"
     ]
    }
   ],
   "source": [
    "workflow.evaluate_reconstruction()"
   ]
  },
  {
   "cell_type": "markdown",
   "id": "4d7b1962-8724-48e3-811a-f475874cf541",
   "metadata": {},
   "source": [
    "## Interpretability - Common and Conditional Gene Loadings\n",
    "\n",
    "- Patches can generate condition-specific scores for each gene, describing the association of the gene and the condition, even if the conditions were always encountered combinatorially.\n",
    "\n",
    "- Positive/Negative values mean that the given gene tends to be expressed relatively more/less for that condition compared to the basal state."
   ]
  },
  {
   "cell_type": "code",
   "execution_count": 8,
   "id": "18c4a352-7b93-4c27-b826-f7b6a0896aed",
   "metadata": {},
   "outputs": [
    {
     "name": "stdout",
     "output_type": "stream",
     "text": [
      "Written condition specific loadings to 'self.anndata.var'.\n",
      "Written common loadings to 'self.anndata.var'.\n"
     ]
    },
    {
     "data": {
      "text/plain": [
       "AxisArrays with keys: "
      ]
     },
     "execution_count": 8,
     "metadata": {},
     "output_type": "execute_result"
    }
   ],
   "source": [
    "workflow.get_conditional_loadings()\n",
    "workflow.get_common_loadings()\n",
    "workflow.anndata.varm"
   ]
  },
  {
   "cell_type": "markdown",
   "id": "550396ab-16a4-479d-b43e-e6c305f36ee6",
   "metadata": {},
   "source": [
    "## Bonus\n",
    "\n",
    "1. Run the cell below to get the top 200 genes\n",
    "2. Copy & Paste the output to the [Gene Ontology Resource](https://geneontology.org/)\n",
    "3. Select 'biological process' and 'Mus Musculus' from the list below and click launch."
   ]
  },
  {
   "cell_type": "code",
   "execution_count": 9,
   "id": "768ee6cf-d479-430f-b43f-5ea06b35138b",
   "metadata": {},
   "outputs": [
    {
     "name": "stdout",
     "output_type": "stream",
     "text": [
      "Stx11\n",
      "Slfn2\n",
      "Trib1\n",
      "Fcer1g\n",
      "Cd52\n",
      "Tnfrsf1b\n",
      "Smox\n",
      "Nampt\n",
      "Marcksl1\n",
      "Ptprc\n",
      "Srgn\n",
      "Snx18\n",
      "Lcp1\n",
      "Gadd45a\n",
      "Cd53\n",
      "Cyba\n",
      "N4bp1\n",
      "Ezr\n",
      "Tyrobp\n",
      "Emilin2\n",
      "Clk1\n",
      "Abca1\n",
      "Vps37b\n",
      "Thbs1\n",
      "Nfe2l2\n",
      "Ptgs2\n",
      "Tnfaip2\n",
      "Txnrd1\n",
      "Fem1c\n",
      "Lmnb1\n",
      "Nr4a1\n",
      "Basp1\n",
      "Gda\n",
      "Fos\n",
      "Tnfaip3\n",
      "Atp2b1\n",
      "Tmcc1\n",
      "Nfkbiz\n",
      "Hmox1\n",
      "Pde4b\n",
      "Atf3\n",
      "Rnf149\n",
      "Bcl2l11\n",
      "Gsr\n",
      "Grina\n",
      "Ets2\n",
      "Tra2a\n",
      "Ccl4\n",
      "Pnrc1\n",
      "Fxyd5\n",
      "Rbms1\n",
      "Msn\n",
      "Il1b\n",
      "Gadd45b\n",
      "Ddx6\n",
      "Plaur\n",
      "Btg2\n",
      "Rhog\n",
      "Marcks\n",
      "Sdcbp\n",
      "Npepps\n",
      "Birc3\n",
      "Pgk1\n",
      "Kctd12\n",
      "Ppp1r15a\n",
      "Cstb\n",
      "Ctsz\n",
      "Ier3\n",
      "Bri3\n",
      "Il1rn\n",
      "Il10rb\n",
      "Vasp\n",
      "Rnf19b\n",
      "Efhd2\n",
      "Prdx5\n",
      "Sirpa\n",
      "Cd44\n",
      "Pim1\n",
      "Tpd52\n",
      "Cd82\n",
      "Card19\n",
      "Sat1\n",
      "Vps4b\n",
      "Rab8b\n",
      "Mxd1\n",
      "Gna13\n",
      "Il1r2\n",
      "Antxr2\n",
      "Chd7\n",
      "Igf1r\n",
      "Rel\n",
      "Slc31a2\n",
      "Csrnp1\n",
      "Ddit3\n",
      "Zeb2\n",
      "Mapkapk2\n",
      "Ninj1\n",
      "Arhgdib\n",
      "Jdp2\n",
      "Klf7\n",
      "Dazap2\n",
      "Hif1a\n",
      "Sgpl1\n",
      "Ell2\n",
      "Anxa11\n",
      "Ndel1\n",
      "Cited2\n",
      "Tax1bp1\n",
      "Ier5\n",
      "Plekho2\n",
      "Mtmr6\n",
      "Hectd1\n",
      "Plin2\n",
      "Sde2\n",
      "Msrb1\n",
      "Klf2\n",
      "Tmem189\n",
      "Clec2d\n",
      "Cotl1\n",
      "Cpeb4\n",
      "Pafah1b1\n",
      "2810474O19Rik\n",
      "Snx10\n",
      "Atp6v0b\n",
      "App\n",
      "Bhlhe40\n",
      "Rac1\n",
      "Tgif1\n",
      "Ostf1\n",
      "Nfkb1\n",
      "Icam1\n",
      "Cflar\n",
      "Atp6ap2\n",
      "Map2k3\n",
      "Malt1\n",
      "Atp6v0d1\n",
      "Arpc1b\n",
      "Ppp1r10\n",
      "Atp6v1e1\n",
      "C3\n",
      "Atp6v1a\n",
      "Kdm6b\n",
      "Zyx\n",
      "Slc44a1\n",
      "Rap1b\n",
      "Cox17\n",
      "Maff\n",
      "Kpna4\n",
      "Capza2\n",
      "Actr2\n",
      "Snx3\n",
      "Mdm2\n",
      "Casp4\n",
      "Zfp36l1\n",
      "Ppp1r12a\n",
      "Ifitm3\n",
      "Ifrd1\n",
      "Slc3a2\n",
      "Por\n",
      "Vmp1\n",
      "Picalm\n",
      "Atp6v1c1\n",
      "Sf3b1\n",
      "Emb\n",
      "Esd\n",
      "Dennd4a\n",
      "Map4k4\n",
      "Wsb1\n",
      "Sqstm1\n",
      "Csde1\n",
      "Pum2\n",
      "Nab1\n",
      "Trps1\n",
      "Phlda1\n",
      "Skil\n",
      "Arpc5\n",
      "Litaf\n",
      "Vamp2\n",
      "Cux1\n",
      "Tnip1\n",
      "Hilpda\n",
      "Vamp8\n",
      "Prdx6\n",
      "Etf1\n",
      "Snap23\n",
      "Ywhaz\n",
      "Txnip\n",
      "Fbxl5\n",
      "Adipor1\n",
      "Ube2b\n",
      "Sod2\n",
      "Vegfa\n",
      "Zfand5\n",
      "Hnrnph2\n",
      "Sparc\n",
      "Grb2\n",
      "Ehd1\n",
      "Ifi27l2a\n",
      "Tspo\n",
      "Stat3\n"
     ]
    }
   ],
   "source": [
    "for gene in workflow.anndata.var.sort_values(\"4DPW_score_Patches\", ascending=False).index[:200]:\n",
    "    print(gene)"
   ]
  }
 ],
 "metadata": {
  "kernelspec": {
   "display_name": "Python 3 (ipykernel)",
   "language": "python",
   "name": "python3"
  },
  "language_info": {
   "codemirror_mode": {
    "name": "ipython",
    "version": 3
   },
   "file_extension": ".py",
   "mimetype": "text/x-python",
   "name": "python",
   "nbconvert_exporter": "python",
   "pygments_lexer": "ipython3",
   "version": "3.12.2"
  }
 },
 "nbformat": 4,
 "nbformat_minor": 5
}
